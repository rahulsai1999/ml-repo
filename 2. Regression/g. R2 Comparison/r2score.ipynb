{
 "cells": [
  {
   "cell_type": "markdown",
   "metadata": {},
   "source": [
    "## R2 Score and Comparison of Regressors"
   ]
  },
  {
   "cell_type": "markdown",
   "metadata": {},
   "source": [
    "- goodness of fit parameter, tried to minimize\n",
    "- R2 score is given by **1 - (sum(res)/sum(avg))**\n",
    "- sum(res) is given by **sum [(true-pred)^2]**\n",
    "- sum(avg) is given by **sum [(avg-pred)^2]**\n",
    "- for a normal model, this R2 score should be between 0 and 1, if it's in negative => broken model (opposite direction for the trend line)\n",
    "- the score should be closer to 1"
   ]
  },
  {
   "cell_type": "markdown",
   "metadata": {},
   "source": [
    "### Adjusted R2 Score\n",
    "- **formula** => 1 - (1-R^2) * (n-1)/(n-p-1)\n",
    "- **p** => number of regressors \n",
    "- **n** => sample size\n",
    "- This is done in order to penalize the independent variables which are not important"
   ]
  },
  {
   "cell_type": "code",
   "execution_count": 1,
   "metadata": {},
   "outputs": [],
   "source": [
    "import numpy as np\n",
    "import pandas as pd\n",
    "import matplotlib.pyplot as plt"
   ]
  },
  {
   "cell_type": "code",
   "execution_count": null,
   "metadata": {},
   "outputs": [],
   "source": [
    "from sklearn.metrics import r2_score"
   ]
  }
 ],
 "metadata": {
  "kernelspec": {
   "display_name": "Python 3",
   "language": "python",
   "name": "python3"
  },
  "language_info": {
   "codemirror_mode": {
    "name": "ipython",
    "version": 3
   },
   "file_extension": ".py",
   "mimetype": "text/x-python",
   "name": "python",
   "nbconvert_exporter": "python",
   "pygments_lexer": "ipython3",
   "version": "3.7.6"
  }
 },
 "nbformat": 4,
 "nbformat_minor": 4
}
